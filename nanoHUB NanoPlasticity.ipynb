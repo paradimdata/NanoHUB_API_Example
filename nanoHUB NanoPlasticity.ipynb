{
 "cells": [
  {
   "cell_type": "markdown",
   "metadata": {},
   "source": [
    "# nanoHUB Nanoplasticity\n",
    "\n",
    "### Ben Haley (HUBzero) and David Elbert (JHU)"
   ]
  },
  {
   "cell_type": "code",
   "execution_count": 1,
   "metadata": {},
   "outputs": [],
   "source": [
    "import sys, json, time\n",
    "from urllib import urlencode\n",
    "from urllib2 import urlopen, Request, HTTPError\n",
    "import numpy as np\n",
    "from matplotlib import pyplot as plt\n",
    "%matplotlib notebook"
   ]
  },
  {
   "cell_type": "markdown",
   "metadata": {},
   "source": [
    "## Both nanoHUB user account and web app registered with nanoHUB are required \n",
    "### Go to https://nanohub.org/members/myaccount to create an account\n",
    "### Go to https://nanohub.org/developer/api/applications/new to create an application\n",
    "\n",
    "\n",
    "Add web app and user data here:"
   ]
  },
  {
   "cell_type": "code",
   "execution_count": 2,
   "metadata": {},
   "outputs": [],
   "source": [
    "import sys\n",
    "sys.path.append('/davidelbert/persistent/NanoHUB_API_Example/')"
   ]
  },
  {
   "cell_type": "code",
   "execution_count": 5,
   "metadata": {},
   "outputs": [],
   "source": [
    "import NanoHUB_remote\n",
    "\n",
    "# In mysecrets.py, set your web app and account secrets.\n",
    "# \n",
    "# Example, with user credentials:\n",
    "# auth_data = {\n",
    "#    'client_id': '',       # Get this when you register a web app\n",
    "#    'client_secret': '',   # Get this when you register a web app\n",
    "#    'grant_type': 'password',\n",
    "#    'username': '',        # Get this when you create a nanoHUB account\n",
    "#    'password': ''         # Get this when you create a nanoHUB account\n",
    "# }\n",
    "#\n",
    "# This design is strictly for convenience so that this notebook can be \n",
    "# shared without storing any secrets.\n",
    "from NanoHUB_remote.mysecrets import auth_data\n",
    "\n",
    "# Authenticate; use headers in all subsequent steps\n",
    "headers = NanoHUB_remote.authenticate(auth_data)"
   ]
  },
  {
   "cell_type": "code",
   "execution_count": 21,
   "metadata": {},
   "outputs": [],
   "source": [
    "import NanoHUB_remote\n",
    "\n",
    "#\n",
    "# This design is strictly for convenience so that this notebook can be \n",
    "# shared without storing any secrets.\n",
    "from NanoHUB_remote.mysecrets import auth_data\n",
    "\n",
    "# Authenticate; use headers in all subsequent steps\n",
    "headers = NanoHUB_remote.authenticate(auth_data)"
   ]
  },
  {
   "cell_type": "code",
   "execution_count": null,
   "metadata": {},
   "outputs": [],
   "source": []
  },
  {
   "cell_type": "code",
   "execution_count": 9,
   "metadata": {},
   "outputs": [],
   "source": [
    "class NanoHUBApiSettings:\n",
    "    api_url = r'https://nanohub.org/api' # URL for the nanoHUB api\n",
    "    tools_path = r'tools/list'\n",
    "    oauth_path = r'developer/oauth/token'\n",
    "    tools_status_path = r'tools/status'\n",
    "    tools_result_path = r'tools/output'\n",
    "    tools_run_path = r'tools/run'\n",
    "    headers \n",
    "    \n",
    "  \n",
    "sleep_time = 1.5 # Time to wait for NanoHUB database updates\n"
   ]
  },
  {
   "cell_type": "code",
   "execution_count": null,
   "metadata": {},
   "outputs": [],
   "source": [
    "# Generate the XML driver to run the tool with our inputs\n",
    "#driver_json = NanoHUB_remote.get_driver('lammpstool', tool_inputs, headers)"
   ]
  },
  {
   "cell_type": "markdown",
   "metadata": {},
   "source": [
    "## Utility Functions (skip below to \"Start Here!\")\n",
    "No actual tinkering needed here"
   ]
  },
  {
   "cell_type": "code",
   "execution_count": 12,
   "metadata": {},
   "outputs": [],
   "source": [
    "def wait_for_processing():\n",
    "    time.sleep(NanoHUBApiSettings.sleep_time)"
   ]
  },
  {
   "cell_type": "code",
   "execution_count": 13,
   "metadata": {},
   "outputs": [],
   "source": [
    "def do_get(path, data):\n",
    "    \"\"\"Send a GET to url/path; return JSON output\"\"\"\n",
    "    d = urlencode(data)\n",
    "    r = Request('{0}/{1}?{2}'.format(NanoHUBApiSettings.api_url, path, d) , data=None, headers=NanoHUBApiSettings.headers)\n",
    "    try:\n",
    "        u = urlopen(r)\n",
    "    except HTTPError as e:\n",
    "        msg = 'GET {0} failed ({1}): {2}\\n'.format(r.get_full_url(), e.code, e.reason)\n",
    "        sys.stderr.write(msg)\n",
    "        sys.exit(1)\n",
    "    return json.loads(u.read())"
   ]
  },
  {
   "cell_type": "code",
   "execution_count": 14,
   "metadata": {},
   "outputs": [],
   "source": [
    " def do_post(path, data):\n",
    "    \"\"\"Send a POST to url/path; return JSON output\"\"\"\n",
    "    d = urlencode(data)\n",
    "    r = Request('{0}/{1}'.format(NanoHUBApiSettings.api_url, path) , data=d, headers=NanoHUBApiSettings.headers)\n",
    "    try:\n",
    "        u = urlopen(r)\n",
    "    except HTTPError as e:\n",
    "        msg = 'POST {0} failed ({1}): {2}\\n'.format(r.get_full_url(), e.code, e.reason)\n",
    "        sys.stderr.write(msg)\n",
    "        sys.exit(1)\n",
    "    return json.loads(u.read())"
   ]
  },
  {
   "cell_type": "code",
   "execution_count": 15,
   "metadata": {},
   "outputs": [],
   "source": [
    "def authenticate():\n",
    "    \"\"\"Authenticate against \"\"\"\n",
    "    auth_json = do_post(NanoHUBApiSettings.oauth_path, NanoHUBApiSettings.auth_data)\n",
    "    sys.stdout.write('Authenticated\\n')\n",
    "\n",
    "    NanoHUBApiSettings.headers = {\n",
    "       'Authorization': 'Bearer {}'.format(auth_json['access_token'])\n",
    "    }\n"
   ]
  },
  {
   "cell_type": "code",
   "execution_count": 16,
   "metadata": {},
   "outputs": [],
   "source": [
    "def get_tools():\n",
    "    \"\"\"Returns a list of tools\"\"\"\n",
    "    \n",
    "    tools = do_get(NanoHUBApiSettings.tools_path, {})\n",
    "    return tools"
   ]
  },
  {
   "cell_type": "code",
   "execution_count": 17,
   "metadata": {},
   "outputs": [],
   "source": [
    "def tool_status(session_id):\n",
    "    \"\"\"Get the tool status of the run\"\"\"\n",
    "    status_data = {\n",
    "        'session_num' : session_id\n",
    "    }\n",
    "    time.sleep(NanoHUBApiSettings.sleep_time)\n",
    "    status = do_get(NanoHUBApiSettings.tools_status_path, status_data)\n",
    "    return status"
   ]
  },
  {
   "cell_type": "code",
   "execution_count": 18,
   "metadata": {},
   "outputs": [],
   "source": [
    "def tool_result(session_id, run_file):\n",
    "    \"\"\"Pull in the result of the tool run\"\"\"\n",
    "    result_data = {\n",
    "       'session_num': session_id,\n",
    "       'run_file': run_file\n",
    "    }\n",
    "    result_json = do_get(NanoHUBApiSettings.tools_result_path, result_data)\n",
    "    return result_json"
   ]
  },
  {
   "cell_type": "code",
   "execution_count": 19,
   "metadata": {},
   "outputs": [],
   "source": [
    "def run_tool(tool_name, driver_xml):\n",
    "    \"\"\"Runs the tool and blocks until a result is provided\"\"\"\n",
    "    \n",
    "    run_data = {\n",
    "        'app': tool_name,\n",
    "        'xml': driver_xml\n",
    "    }\n",
    "    \n",
    "    run_json = do_post(NanoHUBApiSettings.tools_run_path, run_data)\n",
    "    session_id = run_json['session']\n",
    "    sys.stdout.write('Started job (session {})\\n'.format(session_id))\n",
    "    \n",
    "    status = tool_status(session_id)\n",
    "    while not status['finished']:\n",
    "        wait_for_processing()\n",
    "        status = tool_status(session_id)\n",
    "    \n",
    "    # Sleep to allow for success record to be created\n",
    "    wait_for_processing()\n",
    "        \n",
    "    run_file = status['run_file']\n",
    "    sys.stdout.write('Run finished')\n",
    "    return tool_result(session_id, run_file)"
   ]
  },
  {
   "cell_type": "markdown",
   "metadata": {},
   "source": [
    "## Start Here!\n",
    "### Step 1. Authenticate first by running \"authenticate()\""
   ]
  },
  {
   "cell_type": "code",
   "execution_count": null,
   "metadata": {},
   "outputs": [],
   "source": [
    "authenticate()"
   ]
  },
  {
   "cell_type": "markdown",
   "metadata": {},
   "source": [
    "### Step 2A. Look for a Tool"
   ]
  },
  {
   "cell_type": "code",
   "execution_count": 22,
   "metadata": {},
   "outputs": [
    {
     "ename": "AttributeError",
     "evalue": "class NanoHUBApiSettings has no attribute 'headers'",
     "output_type": "error",
     "traceback": [
      "\u001b[0;31m\u001b[0m",
      "\u001b[0;31mAttributeError\u001b[0mTraceback (most recent call last)",
      "\u001b[0;32m<ipython-input-22-e85a5c278436>\u001b[0m in \u001b[0;36m<module>\u001b[0;34m()\u001b[0m\n\u001b[1;32m      1\u001b[0m \u001b[0;31m# Retrieve all tools (with short description and version)\u001b[0m\u001b[0;34m\u001b[0m\u001b[0;34m\u001b[0m\u001b[0m\n\u001b[0;32m----> 2\u001b[0;31m \u001b[0;32mprint\u001b[0m \u001b[0mget_tools\u001b[0m\u001b[0;34m(\u001b[0m\u001b[0;34m)\u001b[0m\u001b[0;34m\u001b[0m\u001b[0m\n\u001b[0m",
      "\u001b[0;32m<ipython-input-16-e214e9f76293>\u001b[0m in \u001b[0;36mget_tools\u001b[0;34m()\u001b[0m\n\u001b[1;32m      2\u001b[0m     \u001b[0;34m\"\"\"Returns a list of tools\"\"\"\u001b[0m\u001b[0;34m\u001b[0m\u001b[0m\n\u001b[1;32m      3\u001b[0m \u001b[0;34m\u001b[0m\u001b[0m\n\u001b[0;32m----> 4\u001b[0;31m     \u001b[0mtools\u001b[0m \u001b[0;34m=\u001b[0m \u001b[0mdo_get\u001b[0m\u001b[0;34m(\u001b[0m\u001b[0mNanoHUBApiSettings\u001b[0m\u001b[0;34m.\u001b[0m\u001b[0mtools_path\u001b[0m\u001b[0;34m,\u001b[0m \u001b[0;34m{\u001b[0m\u001b[0;34m}\u001b[0m\u001b[0;34m)\u001b[0m\u001b[0;34m\u001b[0m\u001b[0m\n\u001b[0m\u001b[1;32m      5\u001b[0m     \u001b[0;32mreturn\u001b[0m \u001b[0mtools\u001b[0m\u001b[0;34m\u001b[0m\u001b[0m\n",
      "\u001b[0;32m<ipython-input-13-de8f90464a17>\u001b[0m in \u001b[0;36mdo_get\u001b[0;34m(path, data)\u001b[0m\n\u001b[1;32m      2\u001b[0m     \u001b[0;34m\"\"\"Send a GET to url/path; return JSON output\"\"\"\u001b[0m\u001b[0;34m\u001b[0m\u001b[0m\n\u001b[1;32m      3\u001b[0m     \u001b[0md\u001b[0m \u001b[0;34m=\u001b[0m \u001b[0murlencode\u001b[0m\u001b[0;34m(\u001b[0m\u001b[0mdata\u001b[0m\u001b[0;34m)\u001b[0m\u001b[0;34m\u001b[0m\u001b[0m\n\u001b[0;32m----> 4\u001b[0;31m     \u001b[0mr\u001b[0m \u001b[0;34m=\u001b[0m \u001b[0mRequest\u001b[0m\u001b[0;34m(\u001b[0m\u001b[0;34m'{0}/{1}?{2}'\u001b[0m\u001b[0;34m.\u001b[0m\u001b[0mformat\u001b[0m\u001b[0;34m(\u001b[0m\u001b[0mNanoHUBApiSettings\u001b[0m\u001b[0;34m.\u001b[0m\u001b[0mapi_url\u001b[0m\u001b[0;34m,\u001b[0m \u001b[0mpath\u001b[0m\u001b[0;34m,\u001b[0m \u001b[0md\u001b[0m\u001b[0;34m)\u001b[0m \u001b[0;34m,\u001b[0m \u001b[0mdata\u001b[0m\u001b[0;34m=\u001b[0m\u001b[0mNone\u001b[0m\u001b[0;34m,\u001b[0m \u001b[0mheaders\u001b[0m\u001b[0;34m=\u001b[0m\u001b[0mNanoHUBApiSettings\u001b[0m\u001b[0;34m.\u001b[0m\u001b[0mheaders\u001b[0m\u001b[0;34m)\u001b[0m\u001b[0;34m\u001b[0m\u001b[0m\n\u001b[0m\u001b[1;32m      5\u001b[0m     \u001b[0;32mtry\u001b[0m\u001b[0;34m:\u001b[0m\u001b[0;34m\u001b[0m\u001b[0m\n\u001b[1;32m      6\u001b[0m         \u001b[0mu\u001b[0m \u001b[0;34m=\u001b[0m \u001b[0murlopen\u001b[0m\u001b[0;34m(\u001b[0m\u001b[0mr\u001b[0m\u001b[0;34m)\u001b[0m\u001b[0;34m\u001b[0m\u001b[0m\n",
      "\u001b[0;31mAttributeError\u001b[0m: class NanoHUBApiSettings has no attribute 'headers'"
     ]
    }
   ],
   "source": [
    "# Retrieve all tools (with short description and version)\n",
    "print get_tools()"
   ]
  },
  {
   "cell_type": "markdown",
   "metadata": {
    "collapsed": true
   },
   "source": [
    "### Step 2B. Use a Tool\n",
    "  1. Specify a tool name\n",
    "  2. Specificy the payload to send to the tool (e.g. the path to a driver xml file)\n",
    "  3. Run the tool with the \"run_tool\" function"
   ]
  },
  {
   "cell_type": "code",
   "execution_count": null,
   "metadata": {},
   "outputs": [],
   "source": [
    "# Pick a tool\n",
    "tool_name = 'nanoplasticity' # Specify the tool short-name (from tool url)\n",
    "\n",
    "# Here we specify the payload for the tool, in this example, I am reading from a file,\n",
    "# Though, the payload can be specified as a string as well\n",
    "### Assuming the example driver is in the current path\n",
    "with open('nanoplasticity_driver_xml', 'r') as f: # Specify the payload for the tool\n",
    "    driver_str = f.read()\n",
    "xml_result = run_tool(tool_name, driver_str) # Return results"
   ]
  },
  {
   "cell_type": "markdown",
   "metadata": {},
   "source": [
    "### Step 3. Analyze results\n",
    "#### Quick and dirty parsing of the xml to get all curves"
   ]
  },
  {
   "cell_type": "code",
   "execution_count": null,
   "metadata": {
    "scrolled": false
   },
   "outputs": [],
   "source": [
    "fig = plt.figure()\n",
    "ax0 = fig.add_subplot(111)\n",
    "\n",
    "### Find and plot all XY curves from output\n",
    "### In this case all curves share the same XY variables (not always the case)\n",
    "out = xml_result['output']\n",
    "\n",
    "### All 2D curves use \"xy\" xml tag\n",
    "outsplit = out.split('<xy>')\n",
    "for sp, curvetxt in enumerate(outsplit[1:]):\n",
    "    curve = curvetxt.split('</xy>')[0]\n",
    "    with open('xy'+str(sp)+'.txt','w') as f:\n",
    "        f.write(curve)\n",
    "    npcurve = np.atleast_2d(np.loadtxt('xy'+str(sp)+'.txt'))\n",
    "    ax0.plot(npcurve[:,0], npcurve[:,1])\n",
    "\n",
    "### Find axis labels and units\n",
    "name = ['']*2\n",
    "for a, direction in enumerate(['xaxis','yaxis']):\n",
    "    axis = out.split('<'+direction+'>')[1].split('</'+direction+'>')[0]\n",
    "    for tag in ['label', 'units']:\n",
    "        try:\n",
    "            print name[a]\n",
    "            name[a] += axis.split('<'+tag+'>')[1].split('</'+tag+'>')[0] + ' '\n",
    "        except IndexError:\n",
    "            print('No {} for {}'.format(tag, direction))\n",
    "ax0.set_xlabel(name[0])\n",
    "ax0.set_ylabel(name[1])\n",
    "plt.show()\n",
    "\n",
    "### number (single value), text, and other output available"
   ]
  },
  {
   "cell_type": "markdown",
   "metadata": {
    "collapsed": true
   },
   "source": [
    "## Possible issues:\n",
    "1. Authentication errors\n",
    "    1. You don't have a nanoHUB account (see above)\n",
    "    2. You don't have a nanoHUB web app (see above)\n",
    "2. Authentication works, but the run generates authorization error\n",
    "    1. You already have the maximum (3) sessions running (check your nanoHUB homepage)"
   ]
  },
  {
   "cell_type": "code",
   "execution_count": null,
   "metadata": {},
   "outputs": [],
   "source": []
  }
 ],
 "metadata": {
  "kernelspec": {
   "display_name": "Python 2",
   "language": "python",
   "name": "python2"
  },
  "language_info": {
   "codemirror_mode": {
    "name": "ipython",
    "version": 2
   },
   "file_extension": ".py",
   "mimetype": "text/x-python",
   "name": "python",
   "nbconvert_exporter": "python",
   "pygments_lexer": "ipython2",
   "version": "2.7.15"
  }
 },
 "nbformat": 4,
 "nbformat_minor": 2
}
