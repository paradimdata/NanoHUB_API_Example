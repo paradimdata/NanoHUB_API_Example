{
 "cells": [
  {
   "cell_type": "markdown",
   "metadata": {},
   "source": [
    "# Run LAMMPS using the nanoHUB web API"
   ]
  },
  {
   "cell_type": "markdown",
   "metadata": {},
   "source": [
    "This notebook demonstrates integration of the MEDE-DSC with nanoHUB's simulation tools.  In this MEDE-DSC notebook we're running a LAMMPS simulation on nanoHUB. We use web API's to pass credentials and input data to nanoHUB and use their LAMMPS tool.  NanoHUB manages submission of the job to an HPC at Purdue University. Our notebook retrieves the results when the simulation is done. \n",
    "\n",
    "NanoHUB provides over 440 tools geared towards simulation and education in the nanotech realm. The notebook interface allows MEDE users to use a familiar interface and produce annotated, repeatable simulations. Returned results can be listed, plotted, analyzed, or shared from here.\n"
   ]
  },
  {
   "cell_type": "markdown",
   "metadata": {},
   "source": [
    "## Prerequisites\n",
    "In order to run a nanoHUB tool via the web API, you need a nanoHUB account and a registered web app.\n",
    "\n",
    "Create a nanoHUB account: https://nanohub.org/register/\n",
    "\n",
    "Register a web app: https://nanohub.org/developer/api/applications/new\n",
    "\n",
    "You will also need the nanoHUB_remote library installed on your system.  \n",
    "https://github.com/bhaley/nanoHUB_remote"
   ]
  },
  {
   "cell_type": "code",
   "execution_count": 1,
   "metadata": {
    "collapsed": true
   },
   "outputs": [],
   "source": [
    "# If necessary, add the directory with the nanoHUB_remote library to \n",
    "# the Python interpreter's path\n",
    "import sys\n",
    "\n",
    "sys.path.append('/persistent/hackathon2017/ben/nanoHUB_remote')"
   ]
  },
  {
   "cell_type": "code",
   "execution_count": 2,
   "metadata": {
    "collapsed": true
   },
   "outputs": [],
   "source": [
    "import nanoHUB_remote.mysecrets"
   ]
  },
  {
   "cell_type": "code",
   "execution_count": 3,
   "metadata": {
    "collapsed": true
   },
   "outputs": [],
   "source": [
    "import nanoHUB_remote\n",
    "\n",
    "# In mysecrets.py, set your web app and account secrets.\n",
    "# \n",
    "# Example, with user credentials:\n",
    "# auth_data = {\n",
    "#    'client_id': '',       # Get this when you register a web app\n",
    "#    'client_secret': '',   # Get this when you register a web app\n",
    "#    'grant_type': 'password',\n",
    "#    'username': '',        # Get this when you create a nanoHUB account\n",
    "#    'password': ''         # Get this when you create a nanoHUB account\n",
    "# }\n",
    "#\n",
    "# This design is strictly for convenience so that this notebook can be \n",
    "# shared without storing any secrets.\n",
    "from nanoHUB_remote.mysecrets import auth_data\n",
    "\n",
    "# Authenticate; use headers in all subsequent steps\n",
    "headers = nanoHUB_remote.authenticate(auth_data)"
   ]
  },
  {
   "cell_type": "code",
   "execution_count": 4,
   "metadata": {
    "collapsed": true
   },
   "outputs": [],
   "source": [
    "# The name of my local input file (command script)\n",
    "command_script = 'mylammps.in'\n",
    "\n",
    "# The name of my local data file\n",
    "data_file = 'mylammps.data'"
   ]
  },
  {
   "cell_type": "code",
   "execution_count": 5,
   "metadata": {
    "collapsed": true
   },
   "outputs": [],
   "source": [
    "# Input values; keys are the labels of the inputs in the lammpstool GUI\n",
    "\n",
    "with open(command_script, 'r') as f:\n",
    "    command_str = f.read()\n",
    "with open(data_file, 'r') as f:\n",
    "    data_str = f.read()\n",
    "    \n",
    "tool_inputs = {\n",
    "    'Command script': command_str,\n",
    "    'Data file': data_str,\n",
    "    'Data file name': data_file\n",
    "#    'Venue': 'Parallel',\n",
    "#    'Cores': 32,\n",
    "#    'Hours': '24h',\n",
    "#    'LAMMPS version': '06Apr15'\n",
    "}"
   ]
  },
  {
   "cell_type": "code",
   "execution_count": 6,
   "metadata": {
    "collapsed": true
   },
   "outputs": [],
   "source": [
    "# Generate the XML driver to run the tool with our inputs\n",
    "driver_json = nanoHUB_remote.get_driver('lammpstool', tool_inputs, headers)"
   ]
  },
  {
   "cell_type": "code",
   "execution_count": 7,
   "metadata": {
    "scrolled": true
   },
   "outputs": [
    {
     "name": "stdout",
     "output_type": "stream",
     "text": [
      "{'xml': '<?xml version=\"1.0\"?>\\n<run>\\n    <tool>\\n  <id>lammpstool</id>\\n  <name>LAMMPS</name>\\n  <version>\\n    <identifier>1.12</identifier>\\n    <application>\\n      <revision>43</revision>\\n      <modified>2017-07-07 11:57:38 -0400 (Fri, 07 Jul 2017)</modified>\\n      <installed>2017-07-07 12:08:43 EDT</installed>\\n      <directory id=\"top\">/apps/lammpstool/r43</directory>\\n      <directory id=\"tool\">/apps/lammpstool/r43/rappture</directory>\\n    </application>\\n  </version>\\n        <title>LAMMPS</title>\\n        <about>This tool allows experienced users of LAMMPS to upload a command script and data file to run LAMMPS for any system.</about>\\n        <command>ruby @tool/../bin/lammps.rb @driver</command>\\n        <layout>wizard</layout>\\n    </tool>\\n    <input>\\n        <loader id=\"examples\">\\n            <about><label>Examples</label></about>\\n            <new>new.xml</new>\\n            <example>*.xml</example>\\n            <default>new.xml</default>\\n        <current>new.xml</current></loader>\\n        <group id=\"script\">\\n            <about>\\n                <label>Commands</label>\\n                <description>LAMMPS command script</description>\\n            </about>\\n            <string id=\"logfile\">\\n                <about>\\n                    <label>Log file name</label>\\n                    <description>Enter the name of the LAMMPS log file.  By default this is log.lammps.  If you use the \"log\" command in your input file to direct LAMMPS log output to a different file, enter the name of the log file here.  Otherwise, do not change this value.</description>\\n                    <hints>If you use the log command in your script, this value should match.</hints>\\n                </about>\\n                <default>log.lammps</default>\\n                <size>40x1</size>\\n            <current>log.lammps</current></string>\\n            <string id=\"script\">\\n                <about>\\n                    <label>Command script</label>\\n                    <description>Upload LAMMPS command script.  \\n\\nThis tool expects to find a \"read_data\" command, giving the name of the data file (the tool creates a new file with this name).  If at least one \"run\" command is given, the tool will display the progress of a simulation.  If the command script has a \"thermo_style\" command, the tool will attempt to plot the energies and temperature vs. time.</description>\\n                </about>\\n                <default>Right click to upload a LAMMPS command script</default>\\n                <size>40x40</size>\\n            <current>\\n# Find minimum energy fcc configuration\\n# Mark Tschopp, 2010\\n\\n# ---------- Initialize Simulation --------------------- \\nclear \\nunits metal \\ndimension 3 \\nboundary p p p \\natom_style atomic \\natom_modify map array\\n\\n# ---------- Create Atoms --------------------- \\nlattice \\tfcc 4\\nregion\\tbox block 0 1 0 1 0 1 units lattice\\ncreate_box\\t1 box\\n\\nlattice\\tfcc 4 orient x 1 0 0 orient y 0 1 0 orient z 0 0 1  \\ncreate_atoms 1 box\\nreplicate 1 1 1\\n\\n# ---------- Define Interatomic Potential --------------------- \\npair_style eam/alloy \\npair_coeff * * Al99.eam.alloy Al\\nneighbor 2.0 bin \\nneigh_modify delay 10 check yes \\n \\n# ---------- Define Settings --------------------- \\ncompute eng all pe/atom \\ncompute eatoms all reduce sum c_eng \\n\\n# ---------- Run Minimization --------------------- \\nreset_timestep 0 \\nfix 1 all box/relax iso 0.0 vmax 0.001\\nthermo 10 \\nthermo_style custom step pe lx ly lz press pxx pyy pzz c_eatoms \\nmin_style cg \\nminimize 1e-25 1e-25 5000 10000 \\n\\nvariable natoms equal \"count(all)\" \\nvariable teng equal \"c_eatoms\"\\nvariable length equal \"lx\"\\nvariable ecoh equal \"v_teng/v_natoms\"\\n\\nprint \"Total energy (eV) = ${teng};\"\\nprint \"Number of atoms = ${natoms};\"\\nprint \"Lattice constant (Angstoms) = ${length};\"\\nprint \"Cohesive energy (eV) = ${ecoh};\"\\n\\nprint \"All done!\" \\n</current></string>\\n        </group>\\n        <group id=\"data\">\\n            <about>\\n                <label>Data</label>\\n                <description>LAMMPS data file</description>\\n            </about>\\n            <string id=\"filename\">\\n                <about>\\n                    <label>Data file name</label>\\n                    <description>Enter the name of the LAMMPS data file</description>\\n                    <hints>This should match the read_data value in your script.</hints>\\n                </about>\\n                <size>40x1</size>\\n            </string>\\n            <string id=\"data\">\\n                <about>\\n                    <label>Data file</label>\\n                    <description>Upload LAMMPS data file</description>\\n                </about>\\n                <default>Right click to upload a LAMMPS data file</default>\\n                <size>40x40</size>\\n            <current /></string>\\n        </group>\\n        <group id=\"simulation\">\\n            <about>\\n                <label>Simulation</label>\\n                <description>Simulation details</description>\\n            </about>\\n            <boolean id=\"extra_files\">\\n                <about>\\n                    <label>Upload additional files</label>\\n                    <description>Click here to upload additional files, such as EAM parameter files.</description>\\n                </about>\\n                <default>no</default>\\n            <current>no</current></boolean>\\n            <group id=\"extra_files\">\\n                <about>\\n                    <label>Files</label>\\n                    <description>Upload additional files</description>\\n                    <enable>input.group(simulation).boolean(extra_files)</enable>\\n                </about>\\n                <integer id=\"nfiles\">\\n                    <about>\\n                        <label>Number of files</label>\\n                        <description>Number of additional files</description>\\n                    </about>\\n                    <default>1</default>\\n                    <min>1</min>\\n                    <max>2</max>\\n                <current>1</current></integer>\\n                <group id=\"file1\">\\n                    <about>\\n                        <label>File</label>\\n                        <description>Upload an extra file</description>\\n                    </about>\\n                    <string id=\"file1path\">\\n                        <about>\\n                            <label>File name</label>\\n                            <description>Name of extra file</description>\\n                        </about>\\n                        <default>Enter file name</default>\\n                        <size>40x1</size>\\n                    <current>Enter file name</current></string>\\n                    <string id=\"file1\">\\n                        <about>\\n                            <label>File</label>\\n                            <description>Contents of extra file</description>\\n                        </about>\\n                        <default>Right click to upload a file</default>\\n                        <size>40x10</size>\\n                    <current>Right click to upload a file</current></string>\\n                </group>\\n                <group id=\"file2\">\\n                    <about>\\n                        <label>File</label>\\n                        <description>Upload an extra file</description>\\n                        <enable>input.group(simulation).group(extra_files).integer(nfiles) &gt; 1</enable>\\n                    </about>\\n                    <string id=\"file2path\">\\n                        <about>\\n                            <label>File name</label>\\n                            <description>Name of extra file</description>\\n                        </about>\\n                        <default>Enter file name</default>\\n                        <size>40x1</size>\\n                    <current>Enter file name</current></string>\\n                    <string id=\"file2\">\\n                        <about>\\n                            <label>File</label>\\n                            <description>Contents of extra file</description>\\n                        </about>\\n                        <default>Right click to upload a file</default>\\n                        <size>40x10</size>\\n                    <current>Right click to upload a file</current></string>\\n                </group>\\n            </group>\\n            <choice id=\"venue\">\\n                <about>\\n                    <label>Venue</label>\\n                    <description>Choose serial or parallel run</description>\\n                </about>\\n                <option id=\"1\">\\n                    <about>\\n                        <label>Serial</label>\\n                        <description>Run LAMMPS in serial nanoHUB container</description>\\n                    </about>\\n                </option>\\n                <option id=\"2\">\\n                    <about>\\n                        <label>BOINC</label>\\n                        <description>Run serial LAMMPS in volunteer computing session</description>\\n                    </about>\\n                </option>\\n                <option id=\"3\">\\n                    <about>\\n                        <label>Parallel</label>\\n                        <description>Run LAMMPS on HPC resources</description>\\n                    </about>\\n                </option>\\n                <default>Serial</default>\\n            <current>Serial</current></choice>\\n            <group id=\"parallel\">\\n                <about>\\n                    <label>Parallel</label>\\n                    <description>Parallel simulation options</description>\\n                    <enable>input.group(simulation).choice(venue) == \"Parallel\"</enable>\\n                </about>\\n                <integer id=\"ncores\">\\n                    <about>\\n                        <label>Cores</label>\\n                        <description>Number of parallel cores to use in simulation.  This tool limits the total core-hours used to 12288.</description>\\n                    </about>\\n                    <default>4</default>\\n                    <min>1</min>\\n                    <max>512</max>\\n                <current>4</current></integer>\\n                <number id=\"hours\">\\n                    <about>\\n                        <label>Hours</label>\\n                        <description>Requested hours (wall time) for simulation.  This tool limits the total core-hours used to 12288.</description>\\n                    </about>\\n                    <default>12.0</default>\\n                    <units>h</units>\\n                    <min>0.08333</min>\\n                    <max>720.0</max>\\n                <current>12.0</current></number>\\n            </group>\\n            <choice id=\"version\">\\n                <about>\\n                    <label>LAMMPS version</label>\\n                    <description>Select a version of LAMMPS</description>\\n                </about>\\n                <option id=\"1\">\\n                    <about>\\n                        <label>17Feb12</label>\\n                        <description>This version of LAMMPS is used in the PolymerModeler tool.</description>\\n                    </about>\\n                </option>\\n                <option id=\"2\">\\n                    <about>\\n                        <label>09Dec14</label>\\n                        <description>This version of LAMMPS supports ReaxFF force fields, COMPASS class2 force fields, and OpenKIM potentials.  It is used in the nuSIMM tool.</description>\\n                    </about>\\n                </option>\\n                <option id=\"3\">\\n                    <about>\\n                        <label>06Apr15</label>\\n                        <description>This latest version of LAMMPS available on nanoHUB.</description>\\n                    </about>\\n                </option>\\n                <default>09Dec14</default>\\n            <current>09Dec14</current></choice>\\n        </group>\\n    </input>\\n</run>', 'app': 'lammpstool'}\n"
     ]
    }
   ],
   "source": [
    "print(driver_json)"
   ]
  },
  {
   "cell_type": "code",
   "execution_count": 8,
   "metadata": {},
   "outputs": [
    {
     "name": "stdout",
     "output_type": "stream",
     "text": [
      "1245250\n"
     ]
    }
   ],
   "source": [
    "# Start the simulation\n",
    "session_id = nanoHUB_remote.launch_tool(driver_json, headers)\n",
    "print session_id"
   ]
  },
  {
   "cell_type": "code",
   "execution_count": 9,
   "metadata": {
    "collapsed": true,
    "scrolled": true
   },
   "outputs": [],
   "source": [
    "# Get the results when available; these results are XML\n",
    "run_results = nanoHUB_remote.get_results(session_id, headers)"
   ]
  },
  {
   "cell_type": "code",
   "execution_count": 10,
   "metadata": {
    "collapsed": true
   },
   "outputs": [],
   "source": [
    "# Get the LAMMPS output log from the results\n",
    "outputs = ['log.lammps']\n",
    "\n",
    "# Get the desired outputs\n",
    "results = nanoHUB_remote.extract_results(run_results, outputs)"
   ]
  },
  {
   "cell_type": "code",
   "execution_count": 11,
   "metadata": {
    "scrolled": true
   },
   "outputs": [
    {
     "name": "stdout",
     "output_type": "stream",
     "text": [
      "LAMMPS (9 Dec 2014)\n",
      "# Find minimum energy fcc configuration\n",
      "# Mark Tschopp, 2010\n",
      "\n",
      "# ---------- Initialize Simulation ---------------------\n",
      "clear\n",
      "units metal\n",
      "dimension 3\n",
      "boundary p p p\n",
      "atom_style atomic\n",
      "atom_modify map array\n",
      "\n",
      "# ---------- Create Atoms ---------------------\n",
      "lattice \tfcc 4\n",
      "Lattice spacing in x,y,z = 4 4 4\n",
      "region\tbox block 0 1 0 1 0 1 units lattice\n",
      "create_box\t1 box\n",
      "Created orthogonal box = (0 0 0) to (4 4 4)\n",
      "  1 by 1 by 1 MPI processor grid\n",
      "\n",
      "lattice\tfcc 4 orient x 1 0 0 orient y 0 1 0 orient z 0 0 1\n",
      "Lattice spacing in x,y,z = 4 4 4\n",
      "create_atoms 1 box\n",
      "Created 4 atoms\n",
      "replicate 1 1 1\n",
      "  orthogonal box = (0 0 0) to (4 4 4)\n",
      "  1 by 1 by 1 MPI processor grid\n",
      "  4 atoms\n",
      "\n",
      "# ---------- Define Interatomic Potential ---------------------\n",
      "pair_style eam/alloy\n",
      "pair_coeff * * Al99.eam.alloy Al\n",
      "\n"
     ]
    }
   ],
   "source": [
    "# Now analyze results['log.lammps'] as you need!\n",
    "print results['log.lammps']"
   ]
  },
  {
   "cell_type": "code",
   "execution_count": null,
   "metadata": {
    "collapsed": true
   },
   "outputs": [],
   "source": []
  }
 ],
 "metadata": {
  "kernelspec": {
   "display_name": "Python 2",
   "language": "python",
   "name": "python2"
  },
  "language_info": {
   "codemirror_mode": {
    "name": "ipython",
    "version": 2
   },
   "file_extension": ".py",
   "mimetype": "text/x-python",
   "name": "python",
   "nbconvert_exporter": "python",
   "pygments_lexer": "ipython2",
   "version": "2.7.13"
  }
 },
 "nbformat": 4,
 "nbformat_minor": 2
}
