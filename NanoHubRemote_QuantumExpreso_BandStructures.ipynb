{
 "cells": [
  {
   "cell_type": "markdown",
   "metadata": {},
   "source": [
    "# Using QuantumExpresso DFT simulations using nanoHUB web API\n",
    "\n",
    "Install the nanohubRemote Api, it only works with Python 2.7, a patch to support Python 3.X is on its way"
   ]
  },
  {
   "cell_type": "code",
   "execution_count": 1,
   "metadata": {},
   "outputs": [],
   "source": [
    "#Install nanohubRemote API\n",
    "#!git clone https://github.com/bhaley/nanoHUB_remote"
   ]
  },
  {
   "cell_type": "markdown",
   "metadata": {},
   "source": [
    "## Libraries not installed by default on SciServer Containers\n",
    "The following libraries are not installed by default, they have to be installed before running the notebook the first time. Libraries can be installed by uncommenting the bellow lines\n",
    "\n"
   ]
  },
  {
   "cell_type": "code",
   "execution_count": 2,
   "metadata": {},
   "outputs": [],
   "source": [
    "#!pip install hublib\n",
    "#!pip install plotly\n",
    "#!pip install qgrid\n",
    "#!pip install nglview "
   ]
  },
  {
   "cell_type": "markdown",
   "metadata": {},
   "source": [
    "## Libraries required\n",
    "\n",
    "* nanoHUB_remote contains basic functions to stablish communication with nanohub webApi\n",
    "* hublib includes all graphical components that allow user to change paramenters from a GUI directly in the Jupyter notebook\n",
    "* Ipython are the core libraries \n",
    "* plotly is a visualization library that renders data sequences in 2d and 3d representations\n",
    "* ipywidgets is the standart library provided by Jupyter to create GUI\n",
    "* zlib library helps to decompress some files encoded in Xml descriptors\n",
    "* skimage is a image processin library usefull to 3d reconstructions (Marching cubes)\n",
    "* numpy is a library to manipulate data"
   ]
  },
  {
   "cell_type": "code",
   "execution_count": 3,
   "metadata": {},
   "outputs": [
    {
     "data": {
      "application/javascript": [
       "\n",
       "requirejs.undef('filepicker');\n",
       "\n",
       "define('filepicker', [\"@jupyter-widgets/base\"], function(widgets) {\n",
       "\n",
       "    var FilePickerView = widgets.DOMWidgetView.extend({\n",
       "        render: function(){\n",
       "            this.file = document.createElement('input');\n",
       "            this.file.setAttribute('class', 'fileinput');\n",
       "            this.file.setAttribute('id', this.cid);\n",
       "            this.file.multiple = this.model.get('multiple');\n",
       "            this.file.required = true;\n",
       "            this.file.setAttribute('type', 'file');\n",
       "            this.file.setAttribute('style', 'display:none');\n",
       "\n",
       "            this.label = document.createElement('label');\n",
       "            this.label.setAttribute('for', this.cid);\n",
       "            this.label.setAttribute('style', 'border: 1px solid; border-radius: 5px; display: inline-block; padding: 6px 12px');\n",
       "\n",
       "            this.icon = document.createElement('i');\n",
       "            this.icon.setAttribute(\"class\", \"fa fa-upload\");\n",
       "\n",
       "            if (this.file.multiple) {\n",
       "                this.labelstr = \"  Upload Files\";\n",
       "            } else {\n",
       "                this.labelstr = \"  Upload File\";\n",
       "            }\n",
       "            this.label.innerHTML = this.labelstr;\n",
       "            this.label.prepend(this.icon);\n",
       "            this.el.appendChild(this.label);\n",
       "            this.el.appendChild(this.file);\n",
       "            this.listenTo(this.model, 'change:send', this._send_changed, this);\n",
       "            this.listenTo(this.model, 'change:reset', this._reset, this);\n",
       "            this.update();\n",
       "        },\n",
       "\n",
       "        events: {\n",
       "            // List of events and their handlers.\n",
       "            'change': 'handle_file_change'\n",
       "        },\n",
       "\n",
       "        _reset: function() {\n",
       "            this.label.innerHTML = this.labelstr;\n",
       "            this.label.prepend(this.icon);\n",
       "            this.file.removeAttribute(\"disabled\");\n",
       "        },\n",
       "\n",
       "        _send_changed: function() {\n",
       "            var that = this;\n",
       "            var send = this.model.get('send');\n",
       "            var fnum = send[0];\n",
       "            var offset = send[1];\n",
       "            var chunk_size=64*1024;\n",
       "            var reader;\n",
       "\n",
       "            if (fnum == -1) {\n",
       "                // ignore\n",
       "                return\n",
       "            }\n",
       "\n",
       "            if (offset == 0) {\n",
       "                this.model.set('sent', -1);\n",
       "                this.touch();\n",
       "            }\n",
       "\n",
       "            // console.log('send: ' + fnum + ' ' + offset);\n",
       "            function tob64( buffer ) {\n",
       "                var binary = '';\n",
       "                var bytes = new Uint8Array( buffer );\n",
       "                var len = bytes.byteLength;\n",
       "                for (var i = 0; i < len; i++) {\n",
       "                    binary += String.fromCharCode( bytes[ i ] );\n",
       "                }\n",
       "                return window.btoa( binary );\n",
       "            }\n",
       "\n",
       "            var reader_done = function (event) {\n",
       "                // chunk is finished.  Send to python\n",
       "                if (event.target.error == null) {\n",
       "                    var b64 = tob64(event.target.result);\n",
       "                    that.model.set('data', b64);\n",
       "                    that.model.set('sent', offset);\n",
       "                    that.touch();\n",
       "                } else {\n",
       "                    console.log(\"Read error: \" + event.target.error);\n",
       "                    that.model.set('data', '');\n",
       "                    that.model.set('sent', -2);\n",
       "                    that.touch();\n",
       "                }\n",
       "                that.touch();\n",
       "            }\n",
       "        \n",
       "            var chunk_reader = function (_offset, _f) {\n",
       "                // console.log('CR' + ' ' + _f + ' ' + _offset);\n",
       "                reader = new FileReader();\n",
       "                var chunk = _f.slice(_offset, chunk_size + _offset);            \n",
       "                reader.readAsArrayBuffer(chunk);\n",
       "                reader.onload = reader_done;\n",
       "            }\n",
       "    \n",
       "            // OK. request next chunk\n",
       "            chunk_reader(offset, this.files[fnum]);\n",
       "        },\n",
       "        \n",
       "        \n",
       "        handle_file_change: function(evt) {\n",
       "\n",
       "            var _files = evt.target.files;\n",
       "            var filenames = [];\n",
       "            var file_readers = [];\n",
       "            this.files = [];\n",
       "\n",
       "            for (var i = 0; i < _files.length; i++) {\n",
       "                var file = _files[i];\n",
       "                console.log(\"Filename: \" + file.name);\n",
       "                console.log(\"Type: \" + file.type);\n",
       "                console.log(\"Size: \" + file.size + \" bytes\");\n",
       "                this.files.push(file);\n",
       "                filenames.push([file.name, file.size]);\n",
       "            };\n",
       "            \n",
       "            // Set the filenames of the files.\n",
       "            this.model.set('filenames', filenames);\n",
       "            this.touch();\n",
       "\n",
       "            // update the label\n",
       "            if (filenames.length == 0) {\n",
       "                this.label.innerHTML = this.labelstr;\n",
       "                this.file.removeAttribute(\"disabled\");\n",
       "            } else if (filenames.length == 1) {\n",
       "                this.label.innerHTML = \"  \" + filenames[0][0];\n",
       "                this.file.setAttribute('disabled', 'true');\n",
       "            } else {\n",
       "                this.label.innerHTML = \"  \" + filenames.length + \" files selected\";\n",
       "                this.file.setAttribute('disabled', 'true');           \n",
       "            };\n",
       "            this.label.prepend(this.icon);\n",
       "        },\n",
       "    });\n",
       "\n",
       "    // Register the FilePickerView with the widget manager.\n",
       "    return {\n",
       "        FilePickerView: FilePickerView\n",
       "    };\n",
       "});\n"
      ],
      "text/plain": [
       "<IPython.core.display.Javascript object>"
      ]
     },
     "metadata": {},
     "output_type": "display_data"
    },
    {
     "data": {
      "text/html": [
       "\n",
       "<script>\n",
       "requirejs.config({\n",
       "    paths: {\n",
       "        'ace': ['//cdnjs.cloudflare.com/ajax/libs/ace/1.2.6/ace'],\n",
       "    },\n",
       "});\n",
       "\n",
       "require(['ace'], function(ace) {\n",
       "    console.log(\"ACE loaded :)\");\n",
       "    return {};\n",
       "});\n",
       "</script>\n",
       "\n",
       "<script>\n",
       "requirejs.undef('editor');\n",
       "\n",
       "define('editor', [\"jupyter-js-widgets\"], function(widgets) {\n",
       "\n",
       "    var EditorView = widgets.DOMWidgetView.extend({\n",
       "\n",
       "        // Render the view.\n",
       "        render: function() {\n",
       "            this.ignorex = false;\n",
       "            this.ignorev = false;\n",
       "            //console.log('RENDER '+this.model.get('name'));\n",
       "            this.div = document.createElement('div');\n",
       "            this.div.setAttribute('id', this.model.get('name'));\n",
       "            this.el.appendChild(this.div);\n",
       "            this.listenTo(this.model, 'change:state', this._state_changed, this);\n",
       "            this.listenTo(this.model, 'change:theme', this._theme_changed, this);\n",
       "            this.listenTo(this.model, 'change:mode', this._mode_changed, this);\n",
       "            this.listenTo(this.model, 'change:value2', this._value2_changed, this);\n",
       "            this.listenTo(this.model, 'change:showmargin', this._showmargin_changed, this);\n",
       "            this.listenTo(this.model, 'change:fontsize', this._fontsize_changed, this);\n",
       "            this.update();\n",
       "        },\n",
       "        update: function() {\n",
       "            return EditorView.__super__.update.apply(this);\n",
       "        },\n",
       "        // Tell Backbone to listen to the change event of input controls\n",
       "        events: {\n",
       "            \"change\": \"handle_color_change\"\n",
       "        },\n",
       "\n",
       "        _state_changed: function() {\n",
       "            var state = this.model.get('state')\n",
       "            //console.log('state: ' + state );\n",
       "            if (state == 'start') {\n",
       "                var that = this;\n",
       "                this._ed = ace.edit(this.model.get('name'));\n",
       "                this._ed.getSession().on('change', function(e) {\n",
       "                    if (that.ignorev == true) { return }\n",
       "                    that.ignorex = true;\n",
       "                    //console.log('CHANGE1');\n",
       "                    that.model.set('value2', that._ed.getValue());\n",
       "                    //console.log('CHANGE2');\n",
       "                    that.touch();\n",
       "                    //console.log('CHANGE3');\n",
       "                    that.ignorex = false;\n",
       "                });\n",
       "            };\n",
       "        },\n",
       "        _theme_changed: function() {\n",
       "            //console.log(\"theme \" + this.model.get('theme'));\n",
       "            this._ed.setTheme(\"ace/theme/\"+this.model.get('theme'));\n",
       "        },\n",
       "        _mode_changed: function() {\n",
       "            //console.log(\"mode \" + this.model.get('mode'));\n",
       "            this._ed.getSession().setMode(\"ace/mode/\"+this.model.get('mode'));\n",
       "        },\n",
       "        _value2_changed: function() {\n",
       "            //console.log('value2 ' + this.ignorex);\n",
       "            if (this.ignorex == true) { return };\n",
       "            var val = this.model.get('value2');\n",
       "            //console.log('VALUE2 ' + val);\n",
       "            this.ignorev = true;\n",
       "            this._ed.setValue(val);\n",
       "            this.ignorev = false;\n",
       "            //console.log('VALUE2 DONE');\n",
       "        },\n",
       "        _showmargin_changed: function() {\n",
       "            this._ed.setShowPrintMargin(this.model.get('showmargin'));\n",
       "        },\n",
       "        _fontsize_changed: function() {\n",
       "            document.getElementById(this.model.get('name')).style.fontSize=this.model.get('fontsize');\n",
       "        },\n",
       "\n",
       "        // Callback for when the color is changed.\n",
       "        handle_color_change: function(event) {\n",
       "            console.log('SOMETHING CHNAGED');\n",
       "            console.log(event);\n",
       "        },\n",
       "    });\n",
       "\n",
       "    return {\n",
       "        EditorView: EditorView\n",
       "    };\n",
       "});\n",
       "</script>\n"
      ],
      "text/plain": [
       "<IPython.core.display.HTML object>"
      ]
     },
     "metadata": {},
     "output_type": "display_data"
    },
    {
     "data": {
      "text/html": [
       "<script>requirejs.config({paths: { 'plotly': ['https://cdn.plot.ly/plotly-latest.min']},});if(!window.Plotly) {{require(['plotly'],function(plotly) {window.Plotly=plotly;});}}</script>"
      ],
      "text/vnd.plotly.v1+html": [
       "<script>requirejs.config({paths: { 'plotly': ['https://cdn.plot.ly/plotly-latest.min']},});if(!window.Plotly) {{require(['plotly'],function(plotly) {window.Plotly=plotly;});}}</script>"
      ]
     },
     "metadata": {},
     "output_type": "display_data"
    }
   ],
   "source": [
    "#access rappture tools & interactive matlab plots\n",
    "import nanoHUB_remote\n",
    "import hublib.rappture as rappture\n",
    "import hublib.tool as tool\n",
    "import hublib.ui as ui\n",
    "from hublib.ui import Dropdown\n",
    "from IPython.display import display\n",
    "from IPython.display import clear_output\n",
    "from IPython.core.display import display, HTML\n",
    "from plotly import __version__\n",
    "from plotly.offline import download_plotlyjs, init_notebook_mode, plot, iplot\n",
    "from plotly.graph_objs import Figure\n",
    "import plotly.figure_factory as FF\n",
    "import plotly.graph_objs as go\n",
    "import ipywidgets as widgets\n",
    "import sys\n",
    "import xml.etree.ElementTree as ET\n",
    "import numpy as np\n",
    "import matplotlib\n",
    "from base64 import b64decode, b64encode\n",
    "import zlib\n",
    "from skimage import measure\n",
    "init_notebook_mode(connected=True)"
   ]
  },
  {
   "cell_type": "markdown",
   "metadata": {},
   "source": [
    "## Functions for data processing\n",
    "\n",
    "This functions process output information from rappture ouput and extract the data\n",
    "* get_data : given a xml branch (field) and a descriptor (container) it returns all children of the branch\n",
    "* get_xy : given a xml branch (field) that contains a rappture curve, it extract information of the xy 2D points\n",
    "* get_text : given a xml branch (field) that contains a rappture entity, it extract text labels\n",
    "* plot_xy : reconstruct 2D rappture plots using plotly\n",
    "* get_vtk : given a xml branch (field) that contains a rappture field/sequenve, it extract a vtk file\n",
    "* plot_vtk : reconstruct 3D rappture surfaces using marching cubes algorithm and visualizing surfaces with plotly\n",
    "\n",
    "\n"
   ]
  },
  {
   "cell_type": "code",
   "execution_count": 4,
   "metadata": {},
   "outputs": [],
   "source": [
    "def get_data(field, container):\n",
    "  component = field.findall(container)\n",
    "  return component\n",
    "\n",
    "def get_xy(field, container):\n",
    "  list_v = []\n",
    "  component = get_data(field, container) \n",
    "  for obj in component:\n",
    "    xy = obj.find(\"xy\").text\n",
    "    list_v.append(xy)\n",
    "  return list_v\n",
    "\n",
    "def get_text(obj, fields):\n",
    "  objf = obj\n",
    "  text = ''\n",
    "  try:\n",
    "    for field in fields:\n",
    "        objf = objf.find(field)\n",
    "    text = objf.text\n",
    "  except: \n",
    "    text = ''    \n",
    "  return text\n",
    "\n",
    "def plot_xy(fields):  \n",
    "  PLOT_FIG = []\n",
    "  for field in fields:\n",
    "    component = get_xy(field, 'component')\n",
    "    label = get_text(field, [\"about\",\"label\"])\n",
    "    title = get_text(field, [\"about\",\"group\"])\n",
    "    xaxis = get_text(field, [\"xaxis\",\"label\"])\n",
    "    xunits = get_text(field, [\"xaxis\",\"units\"])\n",
    "    xscale = get_text(field, [\"xaxis\",\"scale\"])\n",
    "    if xscale == \"\":\n",
    "        xscale = \"linear\"\n",
    "    yaxis = get_text(field, [\"yaxis\",\"label\"])\n",
    "    yunits = get_text(field, [\"yaxis\",\"units\"])\n",
    "    yscale = get_text(field, [\"yaxis\",\"scale\"])    \n",
    "    if yscale == \"\":\n",
    "        yscale = \"linear\"\n",
    "    for obj in component:    \n",
    "      xy = obj.strip()\n",
    "      xy = np.array(xy.splitlines())\n",
    "      xy = xy[(xy != '')]\n",
    "      xy = [np.fromstring(xy[i], dtype=float, sep=\" \") for i in range(len(xy))]\n",
    "      xy = np.concatenate(xy)\n",
    "      xy = xy.reshape(int(len(xy)/2),2)\n",
    "      trace1 = go.Scatter(\n",
    "        x = xy[:,0],\n",
    "        y = xy[:,1],\n",
    "        mode = 'lines',\n",
    "        name = label,\n",
    "        line = dict(\n",
    "            shape='spline'\n",
    "        )\n",
    "      )\n",
    "    PLOT_FIG.append(trace1)\n",
    "    \n",
    "    layout = go.Layout(\n",
    "        title=title,\n",
    "        xaxis=dict(\n",
    "            title = xaxis + \" [\" + xunits + \"]\",\n",
    "            type=xscale,\n",
    "            autorange=True,\n",
    "            exponentformat = \"e\",\n",
    "        ),\n",
    "        yaxis=dict(\n",
    "            title = yaxis + \" [\" + yunits + \"]\",\n",
    "            type=yscale,\n",
    "            autorange=True,\n",
    "            exponentformat = \"e\"\n",
    "        ),\n",
    "        legend=dict(orientation=\"h\"),          \n",
    "    )    \n",
    "  fig = go.Figure(data=PLOT_FIG, layout=layout)\n",
    "  return iplot(fig, show_link=False)\n",
    "\n",
    "def get_vtk(component, container):\n",
    "  list_v = []\n",
    "  for obj in component:\n",
    "    vtk = obj.find(\"vtk\").text\n",
    "    compressed_header = '@@RP-ENC:zb64\\n'\n",
    "    hlen = len(compressed_header)\n",
    "    vtk = vtk[hlen:-1]\n",
    "    datavtk = b64decode(vtk)\n",
    "    list_v.append(zlib.decompress(datavtk, zlib.MAX_WBITS | 32))\n",
    "  return list_v\n",
    "  \n",
    "def plot_vtk( component ):\n",
    "  PLOT_ARRAY = []\n",
    "  PLOT_LAYOUT = {}\n",
    "  component = get_vtk(component , 'component')\n",
    "  datavtk = component[0]\n",
    "  npdata = np.array(datavtk.splitlines())\n",
    "  dimensions = npdata[4].split()\n",
    "  dimensions = [int(dimensions[v]) for v in range (1,len(dimensions)) ]\n",
    "  spacing = npdata[5].split()\n",
    "  spacing = [float(spacing[v]) for v in range (1,len(spacing)) ]\n",
    "  origin = npdata[6].split()\n",
    "  origin = [float(origin[v]) for v in range (1,len(origin)) ]\n",
    "  #print dimensions, spacing, origin\n",
    "  values = [np.fromstring(npdata[i], dtype=float, sep=\" \") for i in range(10, len(npdata))]\n",
    "  #print values\n",
    "  NUM_CONTOURS = '5'\n",
    "  list = np.concatenate(values)\n",
    "  min_val = np.amin(list)\n",
    "  max_val = np.amax(list)\n",
    "  #print min_val\n",
    "  #print max_val\n",
    "  vol = list.reshape(dimensions[0],dimensions[1],dimensions[2])\n",
    "  #print vol\n",
    "  data = []\n",
    "  num_iso = int(NUM_CONTOURS);\n",
    "  viridis_cmap = matplotlib.cm.get_cmap('viridis')\n",
    "  norm = matplotlib.colors.Normalize(vmin=min_val, vmax=max_val)\n",
    "  show_colorbar = True\n",
    "  colormap = []\n",
    "  #plotly hack to include custom colorbars\n",
    "  trace = go.Scatter3d(\n",
    "    x = [0 for i in range(num_iso+2)],\n",
    "    y = [0 for i in range(num_iso+2)],\n",
    "    z = [0 for i in range(num_iso+2)],\n",
    "    mode='markers',\n",
    "    marker=dict(\n",
    "      size=0.1,\n",
    "      color=np.linspace(min_val, max_val, num=num_iso+2), # set color to an array/list of desired values\n",
    "      colorscale='Viridis',\n",
    "      opacity=1,\n",
    "      colorbar=dict(\n",
    "          title = \"$\\\\Psi^2$\",\n",
    "          xanchor = \"right\",\n",
    "          exponentformat = 'e'\n",
    "      ), \n",
    "    ), \n",
    "  )    \n",
    "  for value in np.linspace(min_val, max_val, num=num_iso+2):\n",
    "    color_rgb = matplotlib.colors.colorConverter.to_rgb(viridis_cmap(norm(value)));\n",
    "    colormap.append(color_rgb)\n",
    "    if value > min_val and value < max_val:\n",
    "      vertices, simplices = measure.marching_cubes_classic(vol, value, (spacing[2],spacing[1],spacing[0]), 'ascent')\n",
    "      x,y,z = zip(*vertices)\n",
    "      fig = FF.create_trisurf(x=z,\n",
    "                              y=y, \n",
    "                              z=x, \n",
    "                              plot_edges=False,\n",
    "                              colormap=[color_rgb,color_rgb],\n",
    "                              simplices=simplices,\n",
    "                              show_colorbar=True,\n",
    "                              title=\"Isosurface\")\n",
    "      fig['data'][0]['opacity'] = 0.4\n",
    "      show_colorbar = False\n",
    "      data.append(fig['data'][0])\n",
    "\n",
    "  datavtk = component[1]\n",
    "  #print datavtk\n",
    "\n",
    "  npdata = np.array(datavtk.splitlines())\n",
    "  dimensions = npdata[4].split()\n",
    "  dimensions = [int(dimensions[v]) for v in range (1,len(dimensions)) ]\n",
    "  spacing = npdata[5].split()\n",
    "  spacing = [float(spacing[v]) for v in range (1,len(spacing)) ]\n",
    "  origin = npdata[6].split()\n",
    "  origin = [float(origin[v]) for v in range (1,len(origin)) ]\n",
    "  values = [np.fromstring(npdata[i], dtype=float, sep=\" \") for i in range(10, len(npdata))]\n",
    "  list = np.concatenate(values)\n",
    "  vol = list.reshape(int(dimensions[0]),int(dimensions[1]),int(dimensions[2]))\n",
    "  color_rgb = matplotlib.colors.colorConverter.to_rgb(viridis_cmap(norm(value)));\n",
    "  colormap.append(color_rgb)\n",
    "  #print spacing\n",
    "  \n",
    "  vertices, simplices = measure.marching_cubes_classic(vol, 0.5, (spacing[2],spacing[1],spacing[0]))\n",
    "  x,y,z = zip(*vertices)\n",
    "  fig = FF.create_trisurf(x=z,\n",
    "                          y=y, \n",
    "                          z=x, \n",
    "                          plot_edges=False,\n",
    "                          colormap=['rgb(100, 100, 100)','rgb(100, 100, 100)'],\n",
    "                          simplices=simplices,\n",
    "                          show_colorbar=False,\n",
    "                          title=\"Isosurface\"\n",
    "                         )\n",
    "  fig['data'][0]['opacity'] = 0.1\n",
    "  show_colorbar = False\n",
    "  data.append(fig['data'][0])\n",
    "\n",
    "\n",
    "  data.append(trace)\n",
    "  PLOT_ARRAY = data\n",
    "  fig['layout']['showlegend'] = False\n",
    "  max_axis = max([spacing[0]*dimensions[0], spacing[1]*dimensions[1], spacing[2]*dimensions[2]])\n",
    "  min_axis = min(origin)\n",
    "  fig['layout']['scene']['xaxis']['autorange']=False\n",
    "  fig['layout']['scene']['xaxis']['range']=[0,max_axis]\n",
    "  fig['layout']['scene']['yaxis']['autorange']=False\n",
    "  fig['layout']['scene']['yaxis']['range']=[0,max_axis]\n",
    "  fig['layout']['scene']['zaxis']['autorange']=False\n",
    "  fig['layout']['scene']['zaxis']['range']=[0,max_axis]\n",
    "  PLOT_LAYOUT= fig['layout']\n",
    "\n",
    "  PLOT_FIG = Figure(data=PLOT_ARRAY, layout=PLOT_LAYOUT)\n",
    "  iplot(PLOT_FIG, show_link=False)    \n",
    "    "
   ]
  },
  {
   "cell_type": "markdown",
   "metadata": {},
   "source": [
    "## GUI using hublib\n",
    "\n",
    "The following lines create a graphical user interface in the jupyter Notebook to set parameters\n",
    "* BUILD_WIDGETS : create hublib widgets based on the global dictionary input_table\n",
    "* HANDLE_BUTTON : update the global dictionary input_table when the user interact with the widgets\n"
   ]
  },
  {
   "cell_type": "code",
   "execution_count": 7,
   "metadata": {},
   "outputs": [
    {
     "data": {
      "application/vnd.jupyter.widget-view+json": {
       "model_id": "d91295d74a9e495eb9637d2abcae8af3",
       "version_major": 2,
       "version_minor": 0
      },
      "text/plain": [
       "VBox(children=(HTML(value=\"<p   style='background-color: #DCDCDC; font-size:200; padding: 5px'>Specifications<…"
      ]
     },
     "metadata": {},
     "output_type": "display_data"
    }
   ],
   "source": [
    "input_table = {\n",
    "    'Premade atomistic structure' : {\n",
    "        'type' : 'String', 'value' : 'Si diamond'\n",
    "    } ,\n",
    "    'Structure type' : {\n",
    "        'type' : 'Number', 'value' : '2'\n",
    "    } ,\n",
    "    'Density of States Calculations' : {\n",
    "        'type' : 'String', 'value' : 'yes'\n",
    "    } ,\n",
    "    'Enable occupation options' : {\n",
    "        'type' : 'String', 'value' : 'no'\n",
    "    } ,\n",
    "    'Occupation' : {\n",
    "        'type' : 'String', 'value' : 'tetrahedra'\n",
    "    } ,\n",
    "    'Title of Run' : {\n",
    "        'type' : 'String', 'value' : 'Silicon band structure'\n",
    "    } ,\n",
    "    'Atomic Mass' : {\n",
    "        'type' : 'String', 'value' : 'Si 28.086'\n",
    "    } ,\n",
    "    'Atomic Coordinates' : {\n",
    "        'type' : 'Number', 'value' : '0'\n",
    "    } ,\n",
    "    'energy grid step (eV)' : {\n",
    "        'type' : 'Number', 'value' : '0.1'\n",
    "    } ,\n",
    "    'maximum Energy (eV)' : {\n",
    "        'type' : 'Number', 'value' : '10'\n",
    "    } ,\n",
    "    'minimum Energy (eV)' : {\n",
    "        'type' : 'Number', 'value' : '-6'\n",
    "    } ,    \n",
    "    'Band Structure Calculations' : {\n",
    "        'type' : 'String', 'value' : 'yes'\n",
    "    } ,        \n",
    "    #'Phonon Calculations' : {\n",
    "    #    'type' : 'String', 'value' : 'no'\n",
    "    #} ,        \n",
    "    'Smearing' : {\n",
    "        'type' : 'Number', 'value' : '0'\n",
    "    } ,        \n",
    "    'X direction' : {\n",
    "        'type' : 'Number', 'value' : '8'\n",
    "    } ,        \n",
    "    'Y direction' : {\n",
    "        'type' : 'Number', 'value' : '8'\n",
    "    } ,        \n",
    "    'Z direction' : {\n",
    "        'type' : 'Number', 'value' : '8'\n",
    "    } ,          \n",
    "}\n",
    "\n",
    "\n",
    "def HANDLE_BUTTON( type_sel ):\n",
    "    if type_sel['owner'].hub_widget.name in input_table:\n",
    "        input_table[type_sel['owner'].hub_widget.name]['value'] = type_sel['new']\n",
    "    \n",
    "def BUILD_WIDGETS( ):\n",
    "    global input_table\n",
    "    tabs = []\n",
    "    for key in input_table:\n",
    "      input_desc = input_table[key]\n",
    "      val = None\n",
    "      if 'type' in input_desc:\n",
    "        if input_desc['type'] == \"Integer\":\n",
    "            val = ui.Integer(name=key,description=\"\",value=input_desc['value'])\n",
    "        elif input_desc['type'] == \"Number\":\n",
    "            val = ui.Number(name=key,description=\"\",value=input_desc['value'])            \n",
    "        elif input_desc['type'] == \"String\":\n",
    "            val = ui.String(name=key,description=key,value=input_desc['value'])            \n",
    "        elif input_desc['type'] == \"Dropdown\":\n",
    "            val = ui.Dropdown(name=key,description=key, options=input_desc['options'], value=input_desc['value'])    \n",
    "        if val is not None:\n",
    "            tabs.append(val)\n",
    "            val.dd.hub_widget = val            \n",
    "            val.dd.observe(HANDLE_BUTTON, \"value\", 'change')\n",
    "    return tabs\n",
    "\n",
    "display (ui.Form(BUILD_WIDGETS(), name = 'Specifications'))"
   ]
  },
  {
   "cell_type": "markdown",
   "metadata": {},
   "source": [
    "## Running a simulation on Nanohub\n",
    "\n",
    "Following lines create a simple button that execute all steps required to submit a simulation to nanohub and process its output. User has to click on \"Run Tool\" button to extract the input parameters from the GUI described above."
   ]
  },
  {
   "cell_type": "code",
   "execution_count": 13,
   "metadata": {
    "scrolled": true
   },
   "outputs": [
    {
     "data": {
      "application/vnd.jupyter.widget-view+json": {
       "model_id": "fb1c528285f34d5084f62b2d9f960102",
       "version_major": 2,
       "version_minor": 0
      },
      "text/plain": [
       "Button(description='Run Tool', style=ButtonStyle())"
      ]
     },
     "metadata": {},
     "output_type": "display_data"
    }
   ],
   "source": [
    "import time \n",
    "run_results = {'results_loaded' : False}\n",
    "def RUN_TOOL(arg):\n",
    "    global run_results\n",
    "    run_results = {'results_loaded' : False}\n",
    "    run_results = {}\n",
    "    run_results['tool_name'] = 'dftqe'\n",
    "    tool_inputs = {}\n",
    "    for key in input_table:\n",
    "        tool_inputs[key] = input_table[key]['value']\n",
    "    run_results['tool_inputs'] = tool_inputs\n",
    "    from mysecrets import auth_data        \n",
    "    print (\"Loading Nanohub Token..\")\n",
    "    run_results['headers'] = nanoHUB_remote.authenticate(auth_data)       \n",
    "    print (\"Loading XML Driver (this can take a few minutes) ...\")\n",
    "    run_results['driver_json'] = nanoHUB_remote.get_driver(run_results['tool_name'], run_results['tool_inputs'], run_results['headers'])\n",
    "    \n",
    "    #this option is not incosistent in the tool, Should be blancl instead of None / bug reported to developers\n",
    "    run_results['driver_json']['xml'] = run_results['driver_json']['xml'].replace('<current>None</current>', '<current></current>')\n",
    "    \n",
    "    print (\"Launching nanohub tool (this can take a few minutes)...\")\n",
    "    run_results['session_id'] = nanoHUB_remote.launch_tool(run_results['driver_json'], run_results['headers'])        \n",
    "    print (\"Loading Nanohub results for session ID:\",run_results['session_id'], \"...\" )\n",
    "    run_results['xml_results'] = nanoHUB_remote.get_results(run_results['session_id'], run_results['headers'])         \n",
    "    print (\"reconstructing XML tree ...\",run_results['session_id'] )\n",
    "    run_results['xml_tree'] = ET.fromstring(run_results['xml_results'])\n",
    "    print (\"extracting information from XML output ...\")\n",
    "    run_results['results'] = run_results['xml_tree'].find('output')\n",
    "    print (\"XML output save on run_results['results'] global variable\" )\n",
    "    run_results['results_loaded'] =  True\n",
    "    \n",
    "run_tool = widgets.Button(description='Run Tool')\n",
    "run_tool.on_click(RUN_TOOL)\n",
    "display(run_tool)\n"
   ]
  },
  {
   "cell_type": "markdown",
   "metadata": {},
   "source": [
    "## Visualization of 2D curves\n",
    "This code extract all the curves from the rappture output, creates a Dropdown with their labels and allow the user to visualize each curve independently"
   ]
  },
  {
   "cell_type": "code",
   "execution_count": 11,
   "metadata": {},
   "outputs": [
    {
     "data": {
      "application/vnd.jupyter.widget-view+json": {
       "model_id": "a2ad01ea0d39407d985924403634ac48",
       "version_major": 2,
       "version_minor": 0
      },
      "text/plain": [
       "Box(children=(HTML(value='<p data-toggle=\"popover\" title=\"\">Output Curves</p>'), Dropdown(index=12, options=('…"
      ]
     },
     "metadata": {},
     "output_type": "display_data"
    },
    {
     "data": {
      "application/vnd.plotly.v1+json": {
       "data": [
        {
         "line": {
          "shape": "spline"
         },
         "mode": "lines",
         "name": "Energy vs. SCF iterations",
         "type": "scatter",
         "uid": "0edf27b8-940e-11e8-8b11-0242ac110003",
         "x": [
          1,
          2,
          3,
          4
         ],
         "y": [
          -15.8353482,
          -15.83883689,
          -15.83892741,
          -15.8389337
         ]
        }
       ],
       "layout": {
        "legend": {
         "orientation": "h"
        },
        "title": "",
        "xaxis": {
         "autorange": true,
         "exponentformat": "e",
         "title": "SCF iterations []",
         "type": "linear"
        },
        "yaxis": {
         "autorange": true,
         "exponentformat": "e",
         "title": "Energy [Ry]",
         "type": "linear"
        }
       }
      },
      "text/html": [
       "<div id=\"b644727e-4612-4ffc-9bf5-dffc62a6ba27\" style=\"height: 525px; width: 100%;\" class=\"plotly-graph-div\"></div><script type=\"text/javascript\">require([\"plotly\"], function(Plotly) { window.PLOTLYENV=window.PLOTLYENV || {};window.PLOTLYENV.BASE_URL=\"https://plot.ly\";\n",
       "        Plotly.plot(\n",
       "            'b644727e-4612-4ffc-9bf5-dffc62a6ba27',\n",
       "            [{\"line\": {\"shape\": \"spline\"}, \"mode\": \"lines\", \"name\": \"Energy vs. SCF iterations\", \"x\": [1.0, 2.0, 3.0, 4.0], \"y\": [-15.8353482, -15.83883689, -15.83892741, -15.8389337], \"type\": \"scatter\", \"uid\": \"0edf27b8-940e-11e8-8b11-0242ac110003\"}],\n",
       "            {\"legend\": {\"orientation\": \"h\"}, \"title\": \"\", \"xaxis\": {\"autorange\": true, \"exponentformat\": \"e\", \"title\": \"SCF iterations []\", \"type\": \"linear\"}, \"yaxis\": {\"autorange\": true, \"exponentformat\": \"e\", \"title\": \"Energy [Ry]\", \"type\": \"linear\"}},\n",
       "            {\"showLink\": false, \"linkText\": \"Export to plot.ly\"}\n",
       "        ).then(function () {return Plotly.addFrames('b644727e-4612-4ffc-9bf5-dffc62a6ba27',{});}).then(function(){Plotly.animate('b644727e-4612-4ffc-9bf5-dffc62a6ba27');})\n",
       "        });</script>"
      ],
      "text/vnd.plotly.v1+html": [
       "<div id=\"b644727e-4612-4ffc-9bf5-dffc62a6ba27\" style=\"height: 525px; width: 100%;\" class=\"plotly-graph-div\"></div><script type=\"text/javascript\">require([\"plotly\"], function(Plotly) { window.PLOTLYENV=window.PLOTLYENV || {};window.PLOTLYENV.BASE_URL=\"https://plot.ly\";\n",
       "        Plotly.plot(\n",
       "            'b644727e-4612-4ffc-9bf5-dffc62a6ba27',\n",
       "            [{\"line\": {\"shape\": \"spline\"}, \"mode\": \"lines\", \"name\": \"Energy vs. SCF iterations\", \"x\": [1.0, 2.0, 3.0, 4.0], \"y\": [-15.8353482, -15.83883689, -15.83892741, -15.8389337], \"type\": \"scatter\", \"uid\": \"0edf27b8-940e-11e8-8b11-0242ac110003\"}],\n",
       "            {\"legend\": {\"orientation\": \"h\"}, \"title\": \"\", \"xaxis\": {\"autorange\": true, \"exponentformat\": \"e\", \"title\": \"SCF iterations []\", \"type\": \"linear\"}, \"yaxis\": {\"autorange\": true, \"exponentformat\": \"e\", \"title\": \"Energy [Ry]\", \"type\": \"linear\"}},\n",
       "            {\"showLink\": false, \"linkText\": \"Export to plot.ly\"}\n",
       "        ).then(function () {return Plotly.addFrames('b644727e-4612-4ffc-9bf5-dffc62a6ba27',{});}).then(function(){Plotly.animate('b644727e-4612-4ffc-9bf5-dffc62a6ba27');})\n",
       "        });</script>"
      ]
     },
     "metadata": {},
     "output_type": "display_data"
    }
   ],
   "source": [
    "if (run_results['results_loaded'] == True):\n",
    "    component = run_results['results'].findall(\"curve\")\n",
    "    key_component = {}\n",
    "    for el in component:\n",
    "        key_component[el.find(\"about\").find(\"label\").text] = el\n",
    "    key = list(key_component.keys())\n",
    "    def HANDLECURVES( type_sel ):\n",
    "        global key_component\n",
    "        clear_output()\n",
    "        display(v)\n",
    "        plot_xy([key_component[type_sel['new']]])\n",
    "\n",
    "    v = Dropdown (\"Output Curves\", \"\", key, key[0] )\n",
    "    v.dd.observe(HANDLECURVES, \"value\", 'change')\n",
    "    display(v)\n",
    "    HANDLECURVES( {'new':key[0]} )\n",
    "else :\n",
    "    print (\"Results have not been loaded yet, make sure you already have clicked the 'Run Tool' button\")"
   ]
  },
  {
   "cell_type": "markdown",
   "metadata": {},
   "source": [
    "## Visualization of multiple 2D curves\n",
    "This code extract all the curves from the rappture output, creates multiple ToggleButtons and overlap all sets of data from selected curves"
   ]
  },
  {
   "cell_type": "code",
   "execution_count": 12,
   "metadata": {},
   "outputs": [
    {
     "data": {
      "application/vnd.jupyter.widget-view+json": {
       "model_id": "737764cad86d4e21be2d452b25b777de",
       "version_major": 2,
       "version_minor": 0
      },
      "text/plain": [
       "Box(children=(ToggleButton(value=False, description='Density of States', icon='legal', tooltip='Density of Sta…"
      ]
     },
     "metadata": {},
     "output_type": "display_data"
    },
    {
     "data": {
      "application/vnd.plotly.v1+json": {
       "data": [
        {
         "line": {
          "shape": "spline"
         },
         "mode": "lines",
         "name": "Band 1",
         "type": "scatter",
         "uid": "185528a6-940e-11e8-8b11-0242ac110003",
         "x": [
          0.866,
          1.0392,
          1.2124,
          1.3856,
          1.5588,
          1.7321,
          1.9321,
          2.1321,
          2.3321,
          2.5321,
          2.7321
         ],
         "y": [
          -3.509,
          -3.969,
          -4.73,
          -5.345,
          -5.738,
          -5.866,
          -5.695,
          -5.171,
          -4.313,
          -3.149,
          -1.719
         ]
        },
        {
         "line": {
          "shape": "spline"
         },
         "mode": "lines",
         "name": "Band 2",
         "type": "scatter",
         "uid": "18552ec8-940e-11e8-8b11-0242ac110003",
         "x": [
          2.7321,
          2.5321,
          2.3321,
          2.1321,
          1.9321,
          1.7321,
          1.5588,
          1.3856,
          1.2124,
          1.0392,
          0.866
         ],
         "y": [
          -1.719,
          -0.074,
          1.682,
          3.463,
          5.139,
          6.072,
          4.925,
          3.061,
          1.273,
          -0.207,
          -0.91
         ]
        },
        {
         "line": {
          "shape": "spline"
         },
         "mode": "lines",
         "name": "Band 3",
         "type": "scatter",
         "uid": "18553486-940e-11e8-8b11-0242ac110003",
         "x": [
          0.866,
          1.0392,
          1.2124,
          1.3856,
          1.5588,
          1.7321,
          1.9321,
          2.1321,
          2.3321,
          2.5321,
          2.7321
         ],
         "y": [
          4.864,
          4.934,
          5.147,
          5.486,
          5.87,
          6.072,
          5.488,
          4.569,
          3.823,
          3.356,
          3.195
         ]
        },
        {
         "line": {
          "shape": "spline"
         },
         "mode": "lines",
         "name": "Band 4",
         "type": "scatter",
         "uid": "18553986-940e-11e8-8b11-0242ac110003",
         "x": [
          2.7321,
          2.5321,
          2.3321,
          2.1321,
          1.9321,
          1.7321,
          1.5588,
          1.3856,
          1.2124,
          1.0392,
          0.866
         ],
         "y": [
          3.195,
          3.356,
          3.823,
          4.569,
          5.488,
          6.072,
          5.87,
          5.486,
          5.147,
          4.934,
          4.864
         ]
        },
        {
         "line": {
          "shape": "spline"
         },
         "mode": "lines",
         "name": "Band 5",
         "type": "scatter",
         "uid": "18553e7c-940e-11e8-8b11-0242ac110003",
         "x": [
          0.866,
          1.0392,
          1.2124,
          1.3856,
          1.5588,
          1.7321,
          1.9321,
          2.1321,
          2.3321,
          2.5321,
          2.7321
         ],
         "y": [
          7.601,
          7.67,
          7.895,
          8.256,
          8.621,
          8.636,
          8.241,
          7.501,
          6.897,
          6.612,
          6.744
         ]
        },
        {
         "line": {
          "shape": "spline"
         },
         "mode": "lines",
         "name": "Band 6",
         "type": "scatter",
         "uid": "185545c0-940e-11e8-8b11-0242ac110003",
         "x": [
          2.7321,
          2.5321,
          2.3321,
          2.1321,
          1.9321,
          1.7321,
          1.5588,
          1.3856,
          1.2124,
          1.0392,
          0.866
         ],
         "y": [
          16.081,
          14.578,
          12.72,
          10.966,
          9.428,
          8.636,
          8.929,
          9.439,
          9.616,
          9.507,
          9.437
         ]
        },
        {
         "line": {
          "shape": "spline"
         },
         "mode": "lines",
         "name": "Band 7",
         "type": "scatter",
         "uid": "18554aac-940e-11e8-8b11-0242ac110003",
         "x": [
          0.866,
          1.0392,
          1.2124,
          1.3856,
          1.5588,
          1.7321,
          1.9321,
          2.1321,
          2.3321,
          2.5321,
          2.7321
         ],
         "y": [
          13.632,
          13.748,
          13.552,
          12.001,
          10.272,
          9.352,
          10.162,
          10.966,
          12.72,
          14.578,
          16.081
         ]
        },
        {
         "line": {
          "shape": "spline"
         },
         "mode": "lines",
         "name": "Band 8",
         "type": "scatter",
         "uid": "18554f8e-940e-11e8-8b11-0242ac110003",
         "x": [
          2.7321,
          2.5321,
          2.3321,
          2.1321,
          1.9321,
          1.7321,
          1.5588,
          1.3856,
          1.2124,
          1.0392,
          0.866
         ],
         "y": [
          6.744,
          7.353,
          8.459,
          9.927,
          9.428,
          8.636,
          8.929,
          9.439,
          9.616,
          9.507,
          9.437
         ]
        },
        {
         "line": {
          "shape": "spline"
         },
         "mode": "lines",
         "name": "High Symmetry Point 0.5 0.5 0.5",
         "type": "scatter",
         "uid": "18555470-940e-11e8-8b11-0242ac110003",
         "x": [
          0.866,
          0.866
         ],
         "y": [
          -5.866,
          16.081
         ]
        },
        {
         "line": {
          "shape": "spline"
         },
         "mode": "lines",
         "name": "High Symmetry Point 0.0 0.0 0.0",
         "type": "scatter",
         "uid": "185559d4-940e-11e8-8b11-0242ac110003",
         "x": [
          1.7321,
          1.7321
         ],
         "y": [
          -5.866,
          16.081
         ]
        },
        {
         "line": {
          "shape": "spline"
         },
         "mode": "lines",
         "name": "High Symmetry Point 1.0 0.0 0.0",
         "type": "scatter",
         "uid": "18555ede-940e-11e8-8b11-0242ac110003",
         "x": [
          2.7321,
          2.7321
         ],
         "y": [
          -5.866,
          16.081
         ]
        }
       ],
       "layout": {
        "legend": {
         "orientation": "h"
        },
        "title": "Electron Band Structure",
        "xaxis": {
         "autorange": true,
         "exponentformat": "e",
         "title": "K-Point []",
         "type": "linear"
        },
        "yaxis": {
         "autorange": true,
         "exponentformat": "e",
         "title": "Energy (eV) []",
         "type": "linear"
        }
       }
      },
      "text/html": [
       "<div id=\"c5abefae-c589-42b4-8429-9fe980d116b4\" style=\"height: 525px; width: 100%;\" class=\"plotly-graph-div\"></div><script type=\"text/javascript\">require([\"plotly\"], function(Plotly) { window.PLOTLYENV=window.PLOTLYENV || {};window.PLOTLYENV.BASE_URL=\"https://plot.ly\";\n",
       "        Plotly.plot(\n",
       "            'c5abefae-c589-42b4-8429-9fe980d116b4',\n",
       "            [{\"line\": {\"shape\": \"spline\"}, \"mode\": \"lines\", \"name\": \"Band 1\", \"x\": [0.866, 1.0392, 1.2124, 1.3856, 1.5588, 1.7321, 1.9321, 2.1321, 2.3321, 2.5321, 2.7321], \"y\": [-3.509, -3.969, -4.73, -5.345, -5.738, -5.866, -5.695, -5.171, -4.313, -3.149, -1.719], \"type\": \"scatter\", \"uid\": \"185528a6-940e-11e8-8b11-0242ac110003\"}, {\"line\": {\"shape\": \"spline\"}, \"mode\": \"lines\", \"name\": \"Band 2\", \"x\": [2.7321, 2.5321, 2.3321, 2.1321, 1.9321, 1.7321, 1.5588, 1.3856, 1.2124, 1.0392, 0.866], \"y\": [-1.719, -0.074, 1.682, 3.463, 5.139, 6.072, 4.925, 3.061, 1.273, -0.207, -0.91], \"type\": \"scatter\", \"uid\": \"18552ec8-940e-11e8-8b11-0242ac110003\"}, {\"line\": {\"shape\": \"spline\"}, \"mode\": \"lines\", \"name\": \"Band 3\", \"x\": [0.866, 1.0392, 1.2124, 1.3856, 1.5588, 1.7321, 1.9321, 2.1321, 2.3321, 2.5321, 2.7321], \"y\": [4.864, 4.934, 5.147, 5.486, 5.87, 6.072, 5.488, 4.569, 3.823, 3.356, 3.195], \"type\": \"scatter\", \"uid\": \"18553486-940e-11e8-8b11-0242ac110003\"}, {\"line\": {\"shape\": \"spline\"}, \"mode\": \"lines\", \"name\": \"Band 4\", \"x\": [2.7321, 2.5321, 2.3321, 2.1321, 1.9321, 1.7321, 1.5588, 1.3856, 1.2124, 1.0392, 0.866], \"y\": [3.195, 3.356, 3.823, 4.569, 5.488, 6.072, 5.87, 5.486, 5.147, 4.934, 4.864], \"type\": \"scatter\", \"uid\": \"18553986-940e-11e8-8b11-0242ac110003\"}, {\"line\": {\"shape\": \"spline\"}, \"mode\": \"lines\", \"name\": \"Band 5\", \"x\": [0.866, 1.0392, 1.2124, 1.3856, 1.5588, 1.7321, 1.9321, 2.1321, 2.3321, 2.5321, 2.7321], \"y\": [7.601, 7.67, 7.895, 8.256, 8.621, 8.636, 8.241, 7.501, 6.897, 6.612, 6.744], \"type\": \"scatter\", \"uid\": \"18553e7c-940e-11e8-8b11-0242ac110003\"}, {\"line\": {\"shape\": \"spline\"}, \"mode\": \"lines\", \"name\": \"Band 6\", \"x\": [2.7321, 2.5321, 2.3321, 2.1321, 1.9321, 1.7321, 1.5588, 1.3856, 1.2124, 1.0392, 0.866], \"y\": [16.081, 14.578, 12.72, 10.966, 9.428, 8.636, 8.929, 9.439, 9.616, 9.507, 9.437], \"type\": \"scatter\", \"uid\": \"185545c0-940e-11e8-8b11-0242ac110003\"}, {\"line\": {\"shape\": \"spline\"}, \"mode\": \"lines\", \"name\": \"Band 7\", \"x\": [0.866, 1.0392, 1.2124, 1.3856, 1.5588, 1.7321, 1.9321, 2.1321, 2.3321, 2.5321, 2.7321], \"y\": [13.632, 13.748, 13.552, 12.001, 10.272, 9.352, 10.162, 10.966, 12.72, 14.578, 16.081], \"type\": \"scatter\", \"uid\": \"18554aac-940e-11e8-8b11-0242ac110003\"}, {\"line\": {\"shape\": \"spline\"}, \"mode\": \"lines\", \"name\": \"Band 8\", \"x\": [2.7321, 2.5321, 2.3321, 2.1321, 1.9321, 1.7321, 1.5588, 1.3856, 1.2124, 1.0392, 0.866], \"y\": [6.744, 7.353, 8.459, 9.927, 9.428, 8.636, 8.929, 9.439, 9.616, 9.507, 9.437], \"type\": \"scatter\", \"uid\": \"18554f8e-940e-11e8-8b11-0242ac110003\"}, {\"line\": {\"shape\": \"spline\"}, \"mode\": \"lines\", \"name\": \"High Symmetry Point 0.5 0.5 0.5\", \"x\": [0.866, 0.866], \"y\": [-5.866, 16.081], \"type\": \"scatter\", \"uid\": \"18555470-940e-11e8-8b11-0242ac110003\"}, {\"line\": {\"shape\": \"spline\"}, \"mode\": \"lines\", \"name\": \"High Symmetry Point 0.0 0.0 0.0\", \"x\": [1.7321, 1.7321], \"y\": [-5.866, 16.081], \"type\": \"scatter\", \"uid\": \"185559d4-940e-11e8-8b11-0242ac110003\"}, {\"line\": {\"shape\": \"spline\"}, \"mode\": \"lines\", \"name\": \"High Symmetry Point 1.0 0.0 0.0\", \"x\": [2.7321, 2.7321], \"y\": [-5.866, 16.081], \"type\": \"scatter\", \"uid\": \"18555ede-940e-11e8-8b11-0242ac110003\"}],\n",
       "            {\"legend\": {\"orientation\": \"h\"}, \"title\": \"Electron Band Structure\", \"xaxis\": {\"autorange\": true, \"exponentformat\": \"e\", \"title\": \"K-Point []\", \"type\": \"linear\"}, \"yaxis\": {\"autorange\": true, \"exponentformat\": \"e\", \"title\": \"Energy (eV) []\", \"type\": \"linear\"}},\n",
       "            {\"showLink\": false, \"linkText\": \"Export to plot.ly\"}\n",
       "        ).then(function () {return Plotly.addFrames('c5abefae-c589-42b4-8429-9fe980d116b4',{});}).then(function(){Plotly.animate('c5abefae-c589-42b4-8429-9fe980d116b4');})\n",
       "        });</script>"
      ],
      "text/vnd.plotly.v1+html": [
       "<div id=\"c5abefae-c589-42b4-8429-9fe980d116b4\" style=\"height: 525px; width: 100%;\" class=\"plotly-graph-div\"></div><script type=\"text/javascript\">require([\"plotly\"], function(Plotly) { window.PLOTLYENV=window.PLOTLYENV || {};window.PLOTLYENV.BASE_URL=\"https://plot.ly\";\n",
       "        Plotly.plot(\n",
       "            'c5abefae-c589-42b4-8429-9fe980d116b4',\n",
       "            [{\"line\": {\"shape\": \"spline\"}, \"mode\": \"lines\", \"name\": \"Band 1\", \"x\": [0.866, 1.0392, 1.2124, 1.3856, 1.5588, 1.7321, 1.9321, 2.1321, 2.3321, 2.5321, 2.7321], \"y\": [-3.509, -3.969, -4.73, -5.345, -5.738, -5.866, -5.695, -5.171, -4.313, -3.149, -1.719], \"type\": \"scatter\", \"uid\": \"185528a6-940e-11e8-8b11-0242ac110003\"}, {\"line\": {\"shape\": \"spline\"}, \"mode\": \"lines\", \"name\": \"Band 2\", \"x\": [2.7321, 2.5321, 2.3321, 2.1321, 1.9321, 1.7321, 1.5588, 1.3856, 1.2124, 1.0392, 0.866], \"y\": [-1.719, -0.074, 1.682, 3.463, 5.139, 6.072, 4.925, 3.061, 1.273, -0.207, -0.91], \"type\": \"scatter\", \"uid\": \"18552ec8-940e-11e8-8b11-0242ac110003\"}, {\"line\": {\"shape\": \"spline\"}, \"mode\": \"lines\", \"name\": \"Band 3\", \"x\": [0.866, 1.0392, 1.2124, 1.3856, 1.5588, 1.7321, 1.9321, 2.1321, 2.3321, 2.5321, 2.7321], \"y\": [4.864, 4.934, 5.147, 5.486, 5.87, 6.072, 5.488, 4.569, 3.823, 3.356, 3.195], \"type\": \"scatter\", \"uid\": \"18553486-940e-11e8-8b11-0242ac110003\"}, {\"line\": {\"shape\": \"spline\"}, \"mode\": \"lines\", \"name\": \"Band 4\", \"x\": [2.7321, 2.5321, 2.3321, 2.1321, 1.9321, 1.7321, 1.5588, 1.3856, 1.2124, 1.0392, 0.866], \"y\": [3.195, 3.356, 3.823, 4.569, 5.488, 6.072, 5.87, 5.486, 5.147, 4.934, 4.864], \"type\": \"scatter\", \"uid\": \"18553986-940e-11e8-8b11-0242ac110003\"}, {\"line\": {\"shape\": \"spline\"}, \"mode\": \"lines\", \"name\": \"Band 5\", \"x\": [0.866, 1.0392, 1.2124, 1.3856, 1.5588, 1.7321, 1.9321, 2.1321, 2.3321, 2.5321, 2.7321], \"y\": [7.601, 7.67, 7.895, 8.256, 8.621, 8.636, 8.241, 7.501, 6.897, 6.612, 6.744], \"type\": \"scatter\", \"uid\": \"18553e7c-940e-11e8-8b11-0242ac110003\"}, {\"line\": {\"shape\": \"spline\"}, \"mode\": \"lines\", \"name\": \"Band 6\", \"x\": [2.7321, 2.5321, 2.3321, 2.1321, 1.9321, 1.7321, 1.5588, 1.3856, 1.2124, 1.0392, 0.866], \"y\": [16.081, 14.578, 12.72, 10.966, 9.428, 8.636, 8.929, 9.439, 9.616, 9.507, 9.437], \"type\": \"scatter\", \"uid\": \"185545c0-940e-11e8-8b11-0242ac110003\"}, {\"line\": {\"shape\": \"spline\"}, \"mode\": \"lines\", \"name\": \"Band 7\", \"x\": [0.866, 1.0392, 1.2124, 1.3856, 1.5588, 1.7321, 1.9321, 2.1321, 2.3321, 2.5321, 2.7321], \"y\": [13.632, 13.748, 13.552, 12.001, 10.272, 9.352, 10.162, 10.966, 12.72, 14.578, 16.081], \"type\": \"scatter\", \"uid\": \"18554aac-940e-11e8-8b11-0242ac110003\"}, {\"line\": {\"shape\": \"spline\"}, \"mode\": \"lines\", \"name\": \"Band 8\", \"x\": [2.7321, 2.5321, 2.3321, 2.1321, 1.9321, 1.7321, 1.5588, 1.3856, 1.2124, 1.0392, 0.866], \"y\": [6.744, 7.353, 8.459, 9.927, 9.428, 8.636, 8.929, 9.439, 9.616, 9.507, 9.437], \"type\": \"scatter\", \"uid\": \"18554f8e-940e-11e8-8b11-0242ac110003\"}, {\"line\": {\"shape\": \"spline\"}, \"mode\": \"lines\", \"name\": \"High Symmetry Point 0.5 0.5 0.5\", \"x\": [0.866, 0.866], \"y\": [-5.866, 16.081], \"type\": \"scatter\", \"uid\": \"18555470-940e-11e8-8b11-0242ac110003\"}, {\"line\": {\"shape\": \"spline\"}, \"mode\": \"lines\", \"name\": \"High Symmetry Point 0.0 0.0 0.0\", \"x\": [1.7321, 1.7321], \"y\": [-5.866, 16.081], \"type\": \"scatter\", \"uid\": \"185559d4-940e-11e8-8b11-0242ac110003\"}, {\"line\": {\"shape\": \"spline\"}, \"mode\": \"lines\", \"name\": \"High Symmetry Point 1.0 0.0 0.0\", \"x\": [2.7321, 2.7321], \"y\": [-5.866, 16.081], \"type\": \"scatter\", \"uid\": \"18555ede-940e-11e8-8b11-0242ac110003\"}],\n",
       "            {\"legend\": {\"orientation\": \"h\"}, \"title\": \"Electron Band Structure\", \"xaxis\": {\"autorange\": true, \"exponentformat\": \"e\", \"title\": \"K-Point []\", \"type\": \"linear\"}, \"yaxis\": {\"autorange\": true, \"exponentformat\": \"e\", \"title\": \"Energy (eV) []\", \"type\": \"linear\"}},\n",
       "            {\"showLink\": false, \"linkText\": \"Export to plot.ly\"}\n",
       "        ).then(function () {return Plotly.addFrames('c5abefae-c589-42b4-8429-9fe980d116b4',{});}).then(function(){Plotly.animate('c5abefae-c589-42b4-8429-9fe980d116b4');})\n",
       "        });</script>"
      ]
     },
     "metadata": {},
     "output_type": "display_data"
    }
   ],
   "source": [
    "if (run_results['results_loaded'] == True):\n",
    "    component = run_results['results'].findall(\"curve\")\n",
    "    key_component = {}\n",
    "    for el in component:\n",
    "        key_component[el.find(\"about\").find(\"label\").text] = el\n",
    "    key = list(key_component.keys())\n",
    "    v = []\n",
    "        \n",
    "    def HANDLEMULTCURVES( event ):\n",
    "        global key_component\n",
    "        clear_output()\n",
    "        display(widgets.Box(v))\n",
    "        list_comp = []\n",
    "        for vv in v:\n",
    "            if vv.value == True:\n",
    "                list_comp.append(key_component[vv.description])\n",
    "        if len(list_comp) > 0 :\n",
    "            plot_xy(list_comp)\n",
    "    for k in key:\n",
    "        vv = widgets.ToggleButton(value=False, tooltip=k, description=k, icon='legal')\n",
    "        vv.observe(HANDLEMULTCURVES, \"value\", 'change')\n",
    "        v.append(vv)        \n",
    "    display(widgets.Box(v))\n",
    "    HANDLEMULTCURVES({})\n",
    "else :\n",
    "    print (\"Results have not been loaded yet, make sure you already have clicked the 'Run Tool' button\")"
   ]
  }
 ],
 "metadata": {
  "kernelspec": {
   "display_name": "Python 3",
   "language": "python",
   "name": "python3"
  },
  "language_info": {
   "codemirror_mode": {
    "name": "ipython",
    "version": 3
   },
   "file_extension": ".py",
   "mimetype": "text/x-python",
   "name": "python",
   "nbconvert_exporter": "python",
   "pygments_lexer": "ipython3",
   "version": "3.6.5"
  }
 },
 "nbformat": 4,
 "nbformat_minor": 2
}
